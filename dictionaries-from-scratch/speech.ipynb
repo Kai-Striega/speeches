{
 "cells": [
  {
   "cell_type": "markdown",
   "id": "4108d251-bcc3-4af2-b31a-51c6988188dd",
   "metadata": {},
   "source": [
    "# Python Dictionaries; A very clever data structure!"
   ]
  },
  {
   "cell_type": "code",
   "execution_count": 1,
   "id": "daf772f5f49c4e34",
   "metadata": {},
   "outputs": [],
   "source": [
    "talk = {\n",
    "    \"title\": \"Python Dictionaries, A very clever data structure!\",\n",
    "    \"author\": \"Kai Striega\"\n",
    "}"
   ]
  },
  {
   "cell_type": "code",
   "execution_count": 2,
   "id": "01db05ed-421b-467f-83bb-5371096c0b14",
   "metadata": {},
   "outputs": [],
   "source": [
    "from copy import deepcopy\n",
    "from dataclasses import dataclass\n",
    "from itertools import islice\n",
    "from sys import getsizeof\n",
    "from typing import Hashable, Any"
   ]
  },
  {
   "cell_type": "markdown",
   "id": "65d89859-922a-4c06-83cc-0edd1cd0b856",
   "metadata": {},
   "source": [
    "* Dictionaries play an extremely important role in Python\n",
    "* Used in almost every python program\n",
    "* The Python interpreter requires dictionaries to run Python code\n",
    "* Important to know what the datastructures you use everyday do"
   ]
  },
  {
   "cell_type": "markdown",
   "id": "252d9596-a437-42dd-8277-3c6afd933c03",
   "metadata": {},
   "source": [
    "## What is a dictionary\n",
    "* A dictionary is a datastructure that maps a ``key`` to a ``value``\n",
    "* The main operations on a dictionary are storing a value with some key and extracting the value given the key\n",
    "* The equivalent datastructure is often known as a _hashmap_\n",
    "* First published in 1953!"
   ]
  },
  {
   "cell_type": "markdown",
   "id": "2dc4935c-d6bb-4e46-b1fb-f65508d113c7",
   "metadata": {},
   "source": [
    "### Interface\n",
    "* A dictionary is an _interface_\n",
    "* It defines how an object should behave given different operations"
   ]
  },
  {
   "cell_type": "markdown",
   "id": "22501be5-bf06-40f5-b98f-c4a1c46b143a",
   "metadata": {},
   "source": [
    "### Defined Operations\n",
    "\n",
    "* There are many operations that can be performed on dictionaries\n",
    "* For the sake of brevity our dictionary will be defined as having three main operations:\n",
    "    1. Insert new items ``d[k] = v``\n",
    "    2. Lookup the value of a give key ``d[k]``\n",
    "    3. Delete a (key, value) pair from the dictionary ``del d[k]``\n",
    "* The full list is available in the [docs](https://docs.python.org/3/library/stdtypes.html#dict)"
   ]
  },
  {
   "cell_type": "code",
   "execution_count": 52,
   "id": "2d64e3645bfc628",
   "metadata": {},
   "outputs": [
    {
     "data": {
      "text/plain": [
       "{'author': 'Kai Striega', 'audience': 'PythonWA'}"
      ]
     },
     "execution_count": 52,
     "metadata": {},
     "output_type": "execute_result"
    }
   ],
   "source": [
    "# ``d[k] = v`` adds the ``(k, v)`` pair to the dictionary\n",
    "talk[\"audience\"] = \"PythonWA\"\n",
    "# Our dict now contains an ``audience`` key and ``Pythonistas`` value\n",
    "talk"
   ]
  },
  {
   "cell_type": "code",
   "execution_count": 4,
   "id": "14816406c1374b93",
   "metadata": {},
   "outputs": [
    {
     "data": {
      "text/plain": [
       "'Kai Striega'"
      ]
     },
     "execution_count": 4,
     "metadata": {},
     "output_type": "execute_result"
    }
   ],
   "source": [
    "# ``d[k]`` returns the value assoicated with ``k``\n",
    "talk[\"author\"]"
   ]
  },
  {
   "cell_type": "code",
   "execution_count": 5,
   "id": "1bab99ab-9e6b-4270-b1e2-a6697c641d22",
   "metadata": {},
   "outputs": [
    {
     "data": {
      "text/plain": [
       "{'author': 'Kai Striega', 'audience': 'Pythonistas'}"
      ]
     },
     "execution_count": 5,
     "metadata": {},
     "output_type": "execute_result"
    }
   ],
   "source": [
    "# ``del d[k]`` delets the value associated with ``k``\n",
    "del talk[\"title\"]\n",
    "talk"
   ]
  },
  {
   "cell_type": "markdown",
   "id": "91968389-c0e7-4082-97ea-108dab9f1ed4",
   "metadata": {},
   "source": [
    "# Implementation"
   ]
  },
  {
   "cell_type": "markdown",
   "id": "6a6f3325-6195-4d7e-823b-9633e3eb3e9f",
   "metadata": {},
   "source": [
    "## Overview\n",
    "* There are several ways to implement this interface:\n",
    "    1. A [Hashmap/Hash table](https://en.wikipedia.org/wiki/Hash_table)\n",
    "    2. A [Linked List](https://en.wikipedia.org/wiki/Linked_list) with linear search for the elements\n",
    "    3. A [Search Tree](https://en.wikipedia.org/wiki/Search_tree)\n",
    "* Python chooses to implement this using a hashmap.\n",
    "* A computer doesn't understand complex data structures such as dictionaries, lists or tuples\n",
    "* All of these complex data structures have to be written by someone\n",
    "* In the rest of this talk we will implement a hashmap from scratch\n",
    "* CPython does this in [~5000 lines of C](https://github.com/python/cpython/blob/3.12/Objects/dictobject.c)\n",
    "* We'll be working in Python using some abstractions"
   ]
  },
  {
   "cell_type": "markdown",
   "id": "e836f69a-eb65-404b-bc4f-014be517ad3f",
   "metadata": {},
   "source": [
    "### Warning!\n",
    "\n",
    "* These slides implement a hashmap using C idioms\n",
    "* This is to help focus on one specific thing at a time\n",
    "* And to fit everything onto slides\n",
    "* **This is not Pythonic**"
   ]
  },
  {
   "cell_type": "markdown",
   "id": "af33eba6-803b-4a0e-a144-79c9cbc522de",
   "metadata": {},
   "source": [
    "## Storing data"
   ]
  },
  {
   "cell_type": "markdown",
   "id": "2350807c-29cd-4812-8ed2-40959ce78a16",
   "metadata": {},
   "source": [
    "* The hashmap we will need to acquire memory\n",
    "* As we haven't put anything into it yet, let's represent it as a list of ``None``s\n",
    "* I've chosen to store 8 ``None`` objects as an example\n",
    "* This is a very small amount of memory."
   ]
  },
  {
   "cell_type": "code",
   "execution_count": 6,
   "id": "22844164-e5f0-421c-b1a3-057aaa9c026e",
   "metadata": {},
   "outputs": [
    {
     "data": {
      "text/plain": [
       "[None, None, None, None, None, None, None, None]"
      ]
     },
     "execution_count": 6,
     "metadata": {},
     "output_type": "execute_result"
    }
   ],
   "source": [
    "# Mimick 8 \"buckets\" in memory\n",
    "dictionary = [None] * 8\n",
    "dictionary"
   ]
  },
  {
   "cell_type": "markdown",
   "id": "0b9f6ee0-d0be-42a8-9e65-ddbeaf69123a",
   "metadata": {},
   "source": [
    "## Hashing"
   ]
  },
  {
   "cell_type": "markdown",
   "id": "9e7be283-dab7-4487-a53c-0172d3b35f79",
   "metadata": {},
   "source": [
    "* We have some memory to work with, and we can access our memory using an index.\n",
    "* But that isn't what we want to do. We want to be able to use some key to access the underlying value.\n",
    "* To do this we will use what's called a [hash function](https://en.wikipedia.org/wiki/Hash_function)."
   ]
  },
  {
   "cell_type": "markdown",
   "id": "0473ae74-36b2-4ba7-8e42-f2b83732b7eb",
   "metadata": {},
   "source": [
    "* A **hash function** takes arbitrarily large data and converts it to an integer\n",
    "* We can then interpret that bit pattern as an integer and use that integer as the index\n",
    "* Designing good hash functions is difficult (much more on that later)\n",
    "* Luckily Python has an inbuilt hash function - [hash](https://docs.python.org/3/library/functions.html#hash)."
   ]
  },
  {
   "cell_type": "markdown",
   "id": "b1fdb920-7d68-4296-a1f3-c870c59b2bf8",
   "metadata": {},
   "source": [
    "Let's play around with hash for a bit!"
   ]
  },
  {
   "cell_type": "code",
   "execution_count": 7,
   "id": "2c3afa5b-22b7-4856-92f7-b0261e97a19b",
   "metadata": {},
   "outputs": [
    {
     "data": {
      "text/plain": [
       "3545465326777776709"
      ]
     },
     "execution_count": 7,
     "metadata": {},
     "output_type": "execute_result"
    }
   ],
   "source": [
    "# Strings can be converted to numbers!\n",
    "hash(\"Python\")"
   ]
  },
  {
   "cell_type": "code",
   "execution_count": 8,
   "id": "7eab597a-5b7b-47e1-aabc-53276662239e",
   "metadata": {},
   "outputs": [
    {
     "data": {
      "text/plain": [
       "10"
      ]
     },
     "execution_count": 8,
     "metadata": {},
     "output_type": "execute_result"
    }
   ],
   "source": [
    "# Numbers usually hash to themselves\n",
    "hash(10)"
   ]
  },
  {
   "cell_type": "code",
   "execution_count": 9,
   "id": "dad2631e-1ab1-4c2d-bb0e-1e64d9564639",
   "metadata": {},
   "outputs": [
    {
     "data": {
      "text/plain": [
       "-3297780909026427841"
      ]
     },
     "execution_count": 9,
     "metadata": {},
     "output_type": "execute_result"
    }
   ],
   "source": [
    "# More complex data types can also be hashed\n",
    "hash((10, \"Python\"))"
   ]
  },
  {
   "cell_type": "markdown",
   "id": "559b7e20-8a20-45dd-b613-a5d5aed5fd3e",
   "metadata": {
    "jp-MarkdownHeadingCollapsed": true
   },
   "source": [
    "* These integers are far too large to fit into our small hashtable\n",
    "* We can take the modulus of the integer to get our index\n",
    "* This way we will always find a way to store the given key"
   ]
  },
  {
   "cell_type": "code",
   "execution_count": 10,
   "id": "0e09592d-f3ec-4cef-95df-88b0bd2f6910",
   "metadata": {},
   "outputs": [
    {
     "data": {
      "text/plain": [
       "0"
      ]
     },
     "execution_count": 10,
     "metadata": {},
     "output_type": "execute_result"
    }
   ],
   "source": [
    "hash(\"PythonWA\") % 8"
   ]
  },
  {
   "cell_type": "markdown",
   "id": "c9664e65-8b6a-42bb-859f-92a4293458af",
   "metadata": {},
   "source": [
    "## Wrapping it all together"
   ]
  },
  {
   "cell_type": "code",
   "execution_count": 11,
   "id": "b7af15bc-e94f-4aa8-b03f-cd441f98f4aa",
   "metadata": {},
   "outputs": [],
   "source": [
    "def dict_set(buckets, key, value):\n",
    "    h = hash(key)\n",
    "    i = h % len(buckets)\n",
    "    buckets[i] = value"
   ]
  },
  {
   "cell_type": "code",
   "execution_count": 12,
   "id": "42241353-5833-4fee-996d-b8b2f3c50138",
   "metadata": {},
   "outputs": [],
   "source": [
    "def dict_get(buckets, key):\n",
    "    h = hash(key)\n",
    "    i = h % len(dictionary)\n",
    "    return buckets[i]"
   ]
  },
  {
   "cell_type": "code",
   "execution_count": 13,
   "id": "cc7260ba-d461-4f86-aba5-4926b6376121",
   "metadata": {},
   "outputs": [],
   "source": [
    "def dict_del(buckets, key):\n",
    "    h = hash(key)\n",
    "    i = h % len(dictionary)\n",
    "    buckets[i] = None"
   ]
  },
  {
   "cell_type": "code",
   "execution_count": 14,
   "id": "4959966e-ce77-4404-aa88-82175305ae99",
   "metadata": {},
   "outputs": [
    {
     "data": {
      "text/plain": [
       "['Python', 'is awesome', '!', None, None, None, None, None]"
      ]
     },
     "execution_count": 14,
     "metadata": {},
     "output_type": "execute_result"
    }
   ],
   "source": [
    "toy_dict = [None] * 8\n",
    "dict_set(toy_dict, 0, \"Python\")\n",
    "dict_set(toy_dict, 1, \"is awesome\")\n",
    "dict_set(toy_dict, 2, \"!\")\n",
    "toy_dict"
   ]
  },
  {
   "cell_type": "code",
   "execution_count": 15,
   "id": "ec4df06c-c551-44a7-97b5-61efb132573f",
   "metadata": {},
   "outputs": [
    {
     "data": {
      "text/plain": [
       "'!'"
      ]
     },
     "execution_count": 15,
     "metadata": {},
     "output_type": "execute_result"
    }
   ],
   "source": [
    "dict_get(toy_dict, 2)"
   ]
  },
  {
   "cell_type": "code",
   "execution_count": 16,
   "id": "9f54b816-c4ef-4ee0-bdd5-a23ebe3d9359",
   "metadata": {},
   "outputs": [],
   "source": [
    "dict_del(toy_dict, 2)"
   ]
  },
  {
   "cell_type": "code",
   "execution_count": 17,
   "id": "442dc1bd-d5ba-438b-945a-0e06777a06c1",
   "metadata": {},
   "outputs": [
    {
     "data": {
      "text/plain": [
       "['Python', 'is awesome', None, None, None, None, None, None]"
      ]
     },
     "execution_count": 17,
     "metadata": {},
     "output_type": "execute_result"
    }
   ],
   "source": [
    "toy_dict"
   ]
  },
  {
   "cell_type": "markdown",
   "id": "b6bbbe45-e33f-44e5-b9ac-352c160a39cb",
   "metadata": {},
   "source": [
    "## Hash Collisions"
   ]
  },
  {
   "cell_type": "code",
   "execution_count": 18,
   "id": "8e4e1720-7460-4baf-9b5b-01236090e39c",
   "metadata": {},
   "outputs": [],
   "source": [
    "dict_set(toy_dict, 8, \"Ben\")"
   ]
  },
  {
   "cell_type": "markdown",
   "id": "31cd5f38-59ae-4dd5-a813-6ff2a66649d4",
   "metadata": {},
   "source": [
    "### What's happened here?"
   ]
  },
  {
   "cell_type": "code",
   "execution_count": 19,
   "id": "622baea1-9b80-43a6-805a-18a1be22ee63",
   "metadata": {},
   "outputs": [
    {
     "data": {
      "text/plain": [
       "'hash(0) = 0, hash(8) = 8'"
      ]
     },
     "execution_count": 19,
     "metadata": {},
     "output_type": "execute_result"
    }
   ],
   "source": [
    "f\"{hash(0) = }, {hash(8) = }\""
   ]
  },
  {
   "cell_type": "code",
   "execution_count": 20,
   "id": "d8b7e23c-4bd4-4f8a-9084-1b1a44b883d0",
   "metadata": {},
   "outputs": [
    {
     "data": {
      "text/plain": [
       "'0 % 8 = 0, 8 % 8 = 0'"
      ]
     },
     "execution_count": 20,
     "metadata": {},
     "output_type": "execute_result"
    }
   ],
   "source": [
    "f\"{0 % 8 = }, {8 % 8 = }\""
   ]
  },
  {
   "cell_type": "markdown",
   "id": "b277f964-68be-4bdd-90b1-f3f6894d7689",
   "metadata": {},
   "source": [
    "* We've overwritten the existing data in our dictionary.\n",
    "* This is called a _collision_.\n",
    "* There are two common ways of resolving collisions:\n",
    "    * Separate Chaining\n",
    "    * Open Addressing"
   ]
  },
  {
   "cell_type": "markdown",
   "id": "172bc711-68fe-4314-995c-010338a84822",
   "metadata": {},
   "source": [
    "### Separate Chaining\n",
    "\n",
    "* Build a [linked list](https://en.wikipedia.org/wiki/Linked_list) for each non-``None`` bucket."
   ]
  },
  {
   "cell_type": "markdown",
   "id": "ae5d594f-ec8b-4f36-9947-08991bd9ba0a",
   "metadata": {},
   "source": [
    "![](../images/chaining_rotated.JPEG)"
   ]
  },
  {
   "cell_type": "markdown",
   "id": "74308c03-1acc-4f6e-846c-5265936ebfda",
   "metadata": {},
   "source": [
    "### Open Addressing"
   ]
  },
  {
   "cell_type": "markdown",
   "id": "fd631568-1d71-4056-9186-80d49e7e102e",
   "metadata": {},
   "source": [
    "* Instead of generating an index using our hash we generate a _sequence_ of indecies\n",
    "* This process is called _probing_ and the sequence we generate is called a _probe sequence_\n",
    "* To add a new item to our dictionary we check each index generated by the probe sequence and assign it to the first empty slot."
   ]
  },
  {
   "cell_type": "markdown",
   "id": "0e75e93f-cddf-4276-a789-1480d2179459",
   "metadata": {},
   "source": [
    "![](../images/wasted_space_rotated.JPEG)"
   ]
  },
  {
   "cell_type": "markdown",
   "id": "5f2cc48b-4a0d-4d3a-8920-ad83ebeae01f",
   "metadata": {},
   "source": [
    "#### Linear Probing\n",
    "$$ probes[i] = (hash(key) + i) \\mathbin{\\%} \\text{number of buckets}$$"
   ]
  },
  {
   "cell_type": "markdown",
   "id": "9a3b4baf-730e-489f-964d-c9768d2b4436",
   "metadata": {},
   "source": [
    "#### Quadratic Probing\n",
    "$$ probes[i] = (hash(key) + a * i + b * i^2) \\mathbin{\\%} \\text{number of buckets} $$"
   ]
  },
  {
   "cell_type": "markdown",
   "id": "477e27e2-4a85-4673-bffd-8004f8cfba8a",
   "metadata": {},
   "source": [
    "#### Pseudo-Random Probing\n",
    "$$ probes[i] = (a * probes[i-1] + c) \\mathbin{\\%} \\text{number of buckets} $$"
   ]
  },
  {
   "cell_type": "markdown",
   "id": "6d0ca2b7-d380-473e-84c3-b5018ffb52be",
   "metadata": {},
   "source": [
    "### What does Python do?\n",
    "\n",
    "* Very thorough [docs](https://github.com/python/cpython/blob/3.12/Objects/dictobject.c#L143)"
   ]
  },
  {
   "cell_type": "code",
   "execution_count": 21,
   "id": "62149ec6-bc6e-4552-9511-cdd286d5ceee",
   "metadata": {},
   "outputs": [],
   "source": [
    "PERTURB_SHIFT = 5\n",
    "\n",
    "def probes(hash_value, hash_table_size):\n",
    "    mask = hash_table_size - 1 # used to take modulus fast\n",
    "    perturb = hash_value # used to perturb the probe sequence\n",
    "    probe = hash_value & mask\n",
    "\n",
    "    while True:\n",
    "        yield probe\n",
    "\n",
    "        perturb >>= PERTURB_SHIFT\n",
    "        probe = (probe * 5 + perturb + 1) & mask"
   ]
  },
  {
   "cell_type": "code",
   "execution_count": 22,
   "id": "5ddf5d8f-1889-4e2d-90e4-283d68329aaf",
   "metadata": {},
   "outputs": [],
   "source": [
    "def dict_set(buckets, key, value):\n",
    "    initial_hash = hash(key)\n",
    "    size = len(buckets)\n",
    "    for probe in probes(initial_hash, size):\n",
    "        if buckets[probe] is None:\n",
    "            buckets[probe] = value\n",
    "            break"
   ]
  },
  {
   "cell_type": "code",
   "execution_count": 23,
   "id": "aa22f73d-424c-459f-be7b-ff21bcba471d",
   "metadata": {},
   "outputs": [
    {
     "data": {
      "text/plain": [
       "['Python', 'is awesome', '!', None, None, None, None, None]"
      ]
     },
     "execution_count": 23,
     "metadata": {},
     "output_type": "execute_result"
    }
   ],
   "source": [
    "toy_dict = [None] * 8\n",
    "dict_set(toy_dict, 0, \"Python\")\n",
    "dict_set(toy_dict, 1, \"is awesome\")\n",
    "dict_set(toy_dict, 2, \"!\")\n",
    "toy_dict"
   ]
  },
  {
   "cell_type": "code",
   "execution_count": 24,
   "id": "ae549288-1126-426b-ba7e-0c82094669f5",
   "metadata": {},
   "outputs": [
    {
     "data": {
      "text/plain": [
       "['Python', 'is awesome', '!', None, None, None, 'Ben', None]"
      ]
     },
     "execution_count": 24,
     "metadata": {},
     "output_type": "execute_result"
    }
   ],
   "source": [
    "dict_set(toy_dict, 8, \"Ben\")\n",
    "toy_dict"
   ]
  },
  {
   "cell_type": "markdown",
   "id": "e24fad1d-3c7b-4ea4-9343-a7b9f4babebf",
   "metadata": {},
   "source": [
    "### What about retrieving values?"
   ]
  },
  {
   "cell_type": "code",
   "execution_count": 25,
   "id": "d93b72bb-054e-4926-8de3-8c8be63471da",
   "metadata": {},
   "outputs": [],
   "source": [
    "def dict_get(buckets, key):\n",
    "    # This method is __wrong__, can you spot the error?\n",
    "    initial_hash = hash(key)\n",
    "    size = len(buckets)\n",
    "    for probe in probes(initial_hash, size):\n",
    "        if buckets[probe]:\n",
    "            return buckets[probe]\n",
    "        else:\n",
    "            raise KeyError(key)"
   ]
  },
  {
   "cell_type": "code",
   "execution_count": 26,
   "id": "aff6e89d-d91a-4ac0-8a59-99a3cf10cc96",
   "metadata": {},
   "outputs": [
    {
     "data": {
      "text/plain": [
       "['Python', 'is awesome', '!', None, None, None, 'Ben', None]"
      ]
     },
     "execution_count": 26,
     "metadata": {},
     "output_type": "execute_result"
    }
   ],
   "source": [
    "toy_dict = [None] * 8\n",
    "dict_set(toy_dict, 0, \"Python\")\n",
    "dict_set(toy_dict, 1, \"is awesome\")\n",
    "dict_set(toy_dict, 2, \"!\")\n",
    "dict_set(toy_dict, 8, \"Ben\")\n",
    "toy_dict"
   ]
  },
  {
   "cell_type": "code",
   "execution_count": 27,
   "id": "8555ed9f-b6bd-42af-8e18-6d1779130db9",
   "metadata": {},
   "outputs": [
    {
     "data": {
      "text/plain": [
       "'Python'"
      ]
     },
     "execution_count": 27,
     "metadata": {},
     "output_type": "execute_result"
    }
   ],
   "source": [
    "dict_get(toy_dict, 8)"
   ]
  },
  {
   "cell_type": "markdown",
   "id": "a11187b9-bf84-4b33-b747-9db14fc08a7b",
   "metadata": {},
   "source": [
    "#### Getting values correctly"
   ]
  },
  {
   "cell_type": "code",
   "execution_count": 28,
   "id": "7d512328-6fbe-4042-b60b-8a8e4581ef3a",
   "metadata": {},
   "outputs": [],
   "source": [
    "@dataclass\n",
    "class Bucket:\n",
    "    key_hash: int\n",
    "    key: Hashable\n",
    "    value: Any"
   ]
  },
  {
   "cell_type": "code",
   "execution_count": 29,
   "id": "ee83ded7-10b1-42e3-93ad-b6d2c4befcc1",
   "metadata": {},
   "outputs": [],
   "source": [
    "def dict_set(buckets, key, value):\n",
    "    initial_hash = hash(key)\n",
    "    size = len(buckets)\n",
    "    bucket = Bucket(initial_hash, key, value)\n",
    "    for probe in probes(initial_hash, size):\n",
    "        if buckets[probe] is None:\n",
    "            buckets[probe] = bucket\n",
    "            break"
   ]
  },
  {
   "cell_type": "code",
   "execution_count": 30,
   "id": "d2519684-a3ad-44fb-99ce-ac9312573e3e",
   "metadata": {},
   "outputs": [],
   "source": [
    "def dict_get(buckets, key):\n",
    "    initial_hash = hash(key)\n",
    "    size = len(buckets)\n",
    "    for probe in probes(initial_hash, size):\n",
    "        bucket = buckets[probe]\n",
    "        if bucket is None:\n",
    "            raise KeyError(key)\n",
    "        elif bucket.key_hash == initial_hash and bucket.key == key:\n",
    "            return bucket.value"
   ]
  },
  {
   "cell_type": "code",
   "execution_count": 31,
   "id": "2ef5c2e8-1d61-4c2f-876c-a826b597aef9",
   "metadata": {},
   "outputs": [
    {
     "data": {
      "text/plain": [
       "[Bucket(key_hash=0, key=0, value='Python'),\n",
       " Bucket(key_hash=1, key=1, value='is awesome'),\n",
       " Bucket(key_hash=2, key=2, value='!'),\n",
       " None,\n",
       " None,\n",
       " None,\n",
       " Bucket(key_hash=8, key=8, value='Ben'),\n",
       " None]"
      ]
     },
     "execution_count": 31,
     "metadata": {},
     "output_type": "execute_result"
    }
   ],
   "source": [
    "toy_dict = [None] * 8\n",
    "dict_set(toy_dict, 0, \"Python\")\n",
    "dict_set(toy_dict, 1, \"is awesome\")\n",
    "dict_set(toy_dict, 2, \"!\")\n",
    "dict_set(toy_dict, 8, \"Ben\")\n",
    "toy_dict"
   ]
  },
  {
   "cell_type": "code",
   "execution_count": 32,
   "id": "604edc0e-c5af-4077-b52f-c5e1cca7e6b3",
   "metadata": {},
   "outputs": [
    {
     "data": {
      "text/plain": [
       "'Ben'"
      ]
     },
     "execution_count": 32,
     "metadata": {},
     "output_type": "execute_result"
    }
   ],
   "source": [
    "dict_get(toy_dict, 8)"
   ]
  },
  {
   "cell_type": "code",
   "execution_count": 33,
   "id": "1cb33682-21de-4b5f-be56-ecf784b4fb1e",
   "metadata": {},
   "outputs": [],
   "source": [
    "def dict_del(buckets, key):\n",
    "    initial_hash = hash(key)\n",
    "    size = len(buckets)\n",
    "    for probe in probes(initial_hash, size):\n",
    "        bucket = buckets[probe]\n",
    "        if bucket is None:\n",
    "            raise KeyError(key)\n",
    "        elif bucket.key_hash == initial_hash and bucket.key == key:\n",
    "            buckets[probe] = None\n",
    "            break"
   ]
  },
  {
   "cell_type": "code",
   "execution_count": 34,
   "id": "f4fa7025-ef4d-407d-8c56-6360867e3844",
   "metadata": {},
   "outputs": [
    {
     "data": {
      "text/plain": [
       "[Bucket(key_hash=0, key=0, value='Python'),\n",
       " Bucket(key_hash=1, key=1, value='is awesome'),\n",
       " Bucket(key_hash=2, key=2, value='!'),\n",
       " None,\n",
       " None,\n",
       " None,\n",
       " Bucket(key_hash=8, key=8, value='Ben'),\n",
       " None]"
      ]
     },
     "execution_count": 34,
     "metadata": {},
     "output_type": "execute_result"
    }
   ],
   "source": [
    "toy_dict = [None] * 8\n",
    "dict_set(toy_dict, 0, \"Python\")\n",
    "dict_set(toy_dict, 1, \"is awesome\")\n",
    "dict_set(toy_dict, 2, \"!\")\n",
    "dict_set(toy_dict, 8, \"Ben\")\n",
    "toy_dict"
   ]
  },
  {
   "cell_type": "code",
   "execution_count": 35,
   "id": "0e9fbdaa-c38d-45ed-82de-b1f4685ec5c7",
   "metadata": {},
   "outputs": [
    {
     "data": {
      "text/plain": [
       "[Bucket(key_hash=0, key=0, value='Python'),\n",
       " Bucket(key_hash=1, key=1, value='is awesome'),\n",
       " None,\n",
       " None,\n",
       " None,\n",
       " None,\n",
       " Bucket(key_hash=8, key=8, value='Ben'),\n",
       " None]"
      ]
     },
     "execution_count": 35,
     "metadata": {},
     "output_type": "execute_result"
    }
   ],
   "source": [
    "dict_del(toy_dict, 2)\n",
    "toy_dict"
   ]
  },
  {
   "cell_type": "markdown",
   "id": "aef867cd-bffe-4e94-831d-c1e8243b6186",
   "metadata": {},
   "source": [
    "## Resizing"
   ]
  },
  {
   "cell_type": "markdown",
   "id": "f13913fa-24c1-4634-8c55-b6fc0c2c1d3d",
   "metadata": {},
   "source": [
    "### What happens to a full dictionary?"
   ]
  },
  {
   "cell_type": "code",
   "execution_count": 36,
   "id": "7af34b91-23f9-4611-97a6-7dfbee91d3f0",
   "metadata": {},
   "outputs": [
    {
     "name": "stdout",
     "output_type": "stream",
     "text": [
      "probe = 2\n",
      "probe = 6\n",
      "probe = 6\n",
      "probe = 12\n",
      "probe = 0\n",
      "probe = 6\n",
      "probe = 10\n",
      "probe = 0\n",
      "probe = 10\n",
      "probe = 10\n",
      "probe = 8\n",
      "probe = 2\n",
      "probe = 2\n",
      "probe = 10\n",
      "probe = 2\n",
      "probe = 10\n"
     ]
    }
   ],
   "source": [
    "for i, probe in enumerate(probes(hash(\"Learning Dicts\"), 15)):\n",
    "    if i > 15: break\n",
    "    print(f\"{probe = }\")"
   ]
  },
  {
   "cell_type": "markdown",
   "id": "2d34e5df-27d1-4d95-9d6b-6fdf7fa11af2",
   "metadata": {},
   "source": [
    "Key takeaway - **Cannot have 100% full dictionaries**"
   ]
  },
  {
   "cell_type": "markdown",
   "id": "688d16e7-8408-41e1-b341-1715b4e62bee",
   "metadata": {},
   "source": [
    "### Load Factor - How big is our dictionary?\n",
    "\n",
    "$$\\text{load factor}(\\alpha) = \\frac{\\text{number of used buckets}}{\\text{number of available buckets}}$$\n",
    "\n",
    "* Measures how many of the \"buckets\" in the dictionary are used\n",
    "* Performance _usually_ goes down as load factor increases\n",
    "* Resize if load factor becomes:\n",
    "    * too small (to save space)\n",
    "    * too large (to increase lookup performance)"
   ]
  },
  {
   "cell_type": "markdown",
   "id": "0127c474-8164-4148-8f68-c55b3d0685f9",
   "metadata": {},
   "source": [
    "* Python resizes when the load factor isn't between $\\alpha_{\\text{min}} = \\frac{1}{3}$ and $\\alpha_{\\text{max}} = \\frac{2}{3}$\n",
    "* $\\alpha_{\\text{max}}$ is usual for HashMap implementation (usually $\\approx 0.6$ to $\\approx 0.75$)"
   ]
  },
  {
   "cell_type": "code",
   "execution_count": 37,
   "id": "29d7d0bf-786f-4997-a842-a8695b8bcc34",
   "metadata": {},
   "outputs": [],
   "source": [
    "def dict_load_factor(buckets):\n",
    "    return sum(x is not None for x in buckets) / len(buckets)"
   ]
  },
  {
   "cell_type": "code",
   "execution_count": 38,
   "id": "22e35563-5216-4e14-a003-70abf7d980fd",
   "metadata": {},
   "outputs": [
    {
     "data": {
      "text/plain": [
       "0.375"
      ]
     },
     "execution_count": 38,
     "metadata": {},
     "output_type": "execute_result"
    }
   ],
   "source": [
    "dict_load_factor(toy_dict)"
   ]
  },
  {
   "cell_type": "code",
   "execution_count": 39,
   "id": "e724c801-0598-4dfa-a887-91cd6b432cc2",
   "metadata": {},
   "outputs": [],
   "source": [
    "def dict_resize(buckets, grow):\n",
    "    \"\"\"\n",
    "    Resize a dictionary to either double or half in size\n",
    "\n",
    "    Modifies ``buckets`` inplace\n",
    "    \"\"\"\n",
    "    new_size = len(buckets) << 1 if grow else len(buckets) >> 1\n",
    "    # deepcopy can be avoided, but more complicated.\n",
    "    old_buckets = deepcopy(buckets)\n",
    "    buckets[:] = [None] * new_size\n",
    "\n",
    "    for bucket in old_buckets:\n",
    "        if bucket:\n",
    "            dict_set(buckets, bucket.key, bucket.value)"
   ]
  },
  {
   "cell_type": "code",
   "execution_count": 40,
   "id": "43fc6000-1f30-4547-a16a-189613551fdc",
   "metadata": {},
   "outputs": [],
   "source": [
    "toy_dict = [None] * 8\n",
    "dict_set(toy_dict, 0, \"Python\")\n",
    "dict_set(toy_dict, 1, \"is awesome\")\n",
    "dict_set(toy_dict, 2, \"!\")\n",
    "dict_set(toy_dict, 8, \"Ben\")\n",
    "dict_resize(toy_dict, True)"
   ]
  },
  {
   "cell_type": "markdown",
   "id": "c8bb71c4-ef0a-4fbf-9b36-2af1ba67a3be",
   "metadata": {},
   "source": [
    "### Why avoid resizing?"
   ]
  },
  {
   "cell_type": "code",
   "execution_count": 41,
   "id": "c85b4f5c-edbd-4262-81a7-8adf295dd5e5",
   "metadata": {},
   "outputs": [],
   "source": [
    "@dataclass\n",
    "class Bucket:\n",
    "    key_hash: int\n",
    "    key: Hashable\n",
    "    value: Any\n",
    "    is_deleted: bool"
   ]
  },
  {
   "cell_type": "code",
   "execution_count": 42,
   "id": "6e4a60cf-de51-4c83-8ea1-27352f12b2f0",
   "metadata": {},
   "outputs": [],
   "source": [
    "def dict_set(buckets, key, value):\n",
    "    initial_hash = hash(key)\n",
    "    size = len(buckets)\n",
    "    bucket = Bucket(initial_hash, key, value, False)\n",
    "    for probe in probes(initial_hash, size):\n",
    "        if buckets[probe] is None or bucket.is_deleted: \n",
    "            buckets[probe] = bucket\n",
    "            break"
   ]
  },
  {
   "cell_type": "code",
   "execution_count": 43,
   "id": "dbc017ce-8360-453c-9fde-a3a2e9eacbd5",
   "metadata": {},
   "outputs": [],
   "source": [
    "def dict_get(buckets, key):\n",
    "    initial_hash = hash(key)\n",
    "    size = len(buckets)\n",
    "    for probe in probes(initial_hash, size):\n",
    "        bucket = buckets[probe]\n",
    "        if bucket is None:\n",
    "            raise KeyError(key)\n",
    "        elif bucket.key_hash == initial_hash and bucket.key == key and not bucket.is_deleted:\n",
    "            return bucket.value"
   ]
  },
  {
   "cell_type": "code",
   "execution_count": 44,
   "id": "0711793d-74a5-402c-8864-46455ff3a7d3",
   "metadata": {},
   "outputs": [],
   "source": [
    "def dict_del(buckets, key):\n",
    "    initial_hash = hash(key)\n",
    "    size = len(buckets)\n",
    "    for probe in probes(initial_hash, size):\n",
    "        bucket = buckets[probe]\n",
    "        if bucket is None:\n",
    "            raise KeyError(key)\n",
    "        elif bucket.key_hash == initial_hash and bucket.key == key and not bucket.is_deleted:\n",
    "            buckets[probe].is_deleted = True\n",
    "            break"
   ]
  },
  {
   "cell_type": "code",
   "execution_count": null,
   "id": "01099e66-aa6a-48a9-a3ca-997de5a60237",
   "metadata": {},
   "outputs": [],
   "source": [
    "toy_dict = [None] * 8\n",
    "dict_set(toy_dict, 0, \"Python\")\n",
    "dict_set(toy_dict, 1, \"is awesome\")\n",
    "dict_set(toy_dict, 2, \"!\")\n",
    "toy_dict"
   ]
  },
  {
   "cell_type": "code",
   "execution_count": 46,
   "id": "9a1e8c56-0fc0-45e2-9ebb-21707cf0f6f2",
   "metadata": {},
   "outputs": [
    {
     "data": {
      "text/plain": [
       "'!'"
      ]
     },
     "execution_count": 46,
     "metadata": {},
     "output_type": "execute_result"
    }
   ],
   "source": [
    "dict_get(toy_dict, 2)"
   ]
  },
  {
   "cell_type": "code",
   "execution_count": 47,
   "id": "6279e1ab-917f-4e61-af56-1038a42e2c09",
   "metadata": {},
   "outputs": [],
   "source": [
    "dict_del(toy_dict, 2)"
   ]
  },
  {
   "cell_type": "code",
   "execution_count": 48,
   "id": "3e1e05b5-1995-45f8-b07e-7948282789e1",
   "metadata": {},
   "outputs": [
    {
     "data": {
      "text/plain": [
       "[Bucket(key_hash=0, key=0, value='Python', is_deleted=False),\n",
       " Bucket(key_hash=1, key=1, value='is awesome', is_deleted=False),\n",
       " Bucket(key_hash=2, key=2, value='!', is_deleted=True),\n",
       " None,\n",
       " None,\n",
       " None,\n",
       " None,\n",
       " None]"
      ]
     },
     "execution_count": 48,
     "metadata": {},
     "output_type": "execute_result"
    }
   ],
   "source": [
    "toy_dict"
   ]
  },
  {
   "cell_type": "code",
   "execution_count": 49,
   "id": "dea861a7-4d48-4816-9f31-91358b41bfb0",
   "metadata": {},
   "outputs": [],
   "source": [
    "def is_valid_bucket(bucket):\n",
    "    if bucket is None:\n",
    "        return False\n",
    "    return not bucket.is_deleted\n",
    "\n",
    "def dict_load_factor(buckets):\n",
    "    return sum(1 for x in buckets if is_valid_bucket(x)) / len(buckets)"
   ]
  },
  {
   "cell_type": "code",
   "execution_count": 50,
   "id": "c31c0596-92f4-4609-a91a-70114002f038",
   "metadata": {},
   "outputs": [],
   "source": [
    "def dict_resize(buckets, grow):\n",
    "    \"\"\"\n",
    "    Resize a dictionary to either double or half in size\n",
    "\n",
    "    Modifies ``buckets`` inplace\n",
    "    \"\"\"\n",
    "    new_size = len(buckets) << 1 if grow else len(buckets) >> 1\n",
    "    # deepcopy can be avoided, but more complicated.\n",
    "    old_buckets = deepcopy(buckets)\n",
    "    buckets[:] = [None] * new_size\n",
    "\n",
    "    for bucket in old_buckets:\n",
    "        if bucket and not bucket.is_deleted:\n",
    "            dict_set(buckets, bucket.key, bucket.value)"
   ]
  },
  {
   "cell_type": "code",
   "execution_count": 51,
   "id": "ec83973a-dc29-4cd8-82cb-10d3c3cecef0",
   "metadata": {},
   "outputs": [],
   "source": [
    "dict_resize(toy_dict, True)"
   ]
  },
  {
   "cell_type": "markdown",
   "id": "2a7d37b9-4123-4068-bd3a-353e0fdb8541",
   "metadata": {},
   "source": [
    "## How does Python do it differently?"
   ]
  },
  {
   "cell_type": "markdown",
   "id": "2f713210-51af-4155-867c-a96b004604ee",
   "metadata": {},
   "source": [
    "# Improvements"
   ]
  },
  {
   "cell_type": "markdown",
   "id": "065ee641-2c1b-4902-9f29-ea8468654191",
   "metadata": {},
   "source": [
    "## Designing a good hash function"
   ]
  },
  {
   "cell_type": "markdown",
   "id": "31c32548-85aa-4998-b648-27120171b047",
   "metadata": {},
   "source": [
    "* Up to this point we've simply used Python's inbuilt function hash to compute the hashes for our hash table\n",
    "* How do we know if this is a good hash function?\n",
    "* What does it even mean for a hash function to be good?\n",
    "* Let's try to answer some of these questions!"
   ]
  },
  {
   "cell_type": "markdown",
   "id": "8da1c437-a75f-4fda-aebf-78ea1f0eab37",
   "metadata": {},
   "source": [
    "### Properties we might want in a good hash function"
   ]
  },
  {
   "cell_type": "markdown",
   "id": "044800a9-4039-4fa8-9ebc-79afd9e2efca",
   "metadata": {},
   "source": [
    "\n",
    "1. Uniform Distribution\n",
    "2. One-Way Functions\n",
    "3. Fast\n",
    "\n",
    "It turns out that designing a function with all of these properties is hard. We'll have to make compromises somewhere. They skill becomes knowing which compromises are right for your application."
   ]
  },
  {
   "cell_type": "code",
   "execution_count": null,
   "id": "7b53e5fc-a73f-4914-a14d-7db57c7857a7",
   "metadata": {},
   "outputs": [],
   "source": []
  }
 ],
 "metadata": {
  "kernelspec": {
   "display_name": "Python 3 (ipykernel)",
   "language": "python",
   "name": "python3"
  },
  "language_info": {
   "codemirror_mode": {
    "name": "ipython",
    "version": 3
   },
   "file_extension": ".py",
   "mimetype": "text/x-python",
   "name": "python",
   "nbconvert_exporter": "python",
   "pygments_lexer": "ipython3",
   "version": "3.13.0"
  }
 },
 "nbformat": 4,
 "nbformat_minor": 5
}
